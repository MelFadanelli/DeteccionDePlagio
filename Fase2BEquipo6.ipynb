{
  "cells": [
    {
      "cell_type": "markdown",
      "source": [
        "#RETO EQUIPO 6\n",
        "\n",
        "* Melissa Aurora Fadanelli Ordaz\n",
        "* Nadia Paola Ferro Gallegos\n",
        "* Jorge Rojas Rivas"
      ],
      "metadata": {
        "id": "uetRlhDI0_zj"
      }
    },
    {
      "cell_type": "markdown",
      "metadata": {
        "id": "_VGqpRKtP1yM"
      },
      "source": [
        "#Importación de librerías"
      ]
    },
    {
      "cell_type": "code",
      "execution_count": null,
      "metadata": {
        "colab": {
          "base_uri": "https://localhost:8080/"
        },
        "id": "ScS7VK1-LwGg",
        "outputId": "9035f71e-9f2f-4862-8db7-373fe6d749bf"
      },
      "outputs": [
        {
          "name": "stdout",
          "output_type": "stream",
          "text": [
            "Requirement already satisfied: nltk in /usr/local/lib/python3.10/dist-packages (3.8.1)\n",
            "Requirement already satisfied: scikit-learn in /usr/local/lib/python3.10/dist-packages (1.2.2)\n",
            "Requirement already satisfied: click in /usr/local/lib/python3.10/dist-packages (from nltk) (8.1.7)\n",
            "Requirement already satisfied: joblib in /usr/local/lib/python3.10/dist-packages (from nltk) (1.4.2)\n",
            "Requirement already satisfied: regex>=2021.8.3 in /usr/local/lib/python3.10/dist-packages (from nltk) (2024.5.15)\n",
            "Requirement already satisfied: tqdm in /usr/local/lib/python3.10/dist-packages (from nltk) (4.66.4)\n",
            "Requirement already satisfied: numpy>=1.17.3 in /usr/local/lib/python3.10/dist-packages (from scikit-learn) (1.25.2)\n",
            "Requirement already satisfied: scipy>=1.3.2 in /usr/local/lib/python3.10/dist-packages (from scikit-learn) (1.11.4)\n",
            "Requirement already satisfied: threadpoolctl>=2.0.0 in /usr/local/lib/python3.10/dist-packages (from scikit-learn) (3.5.0)\n"
          ]
        }
      ],
      "source": [
        "!pip install nltk scikit-learn"
      ]
    },
    {
      "cell_type": "code",
      "execution_count": null,
      "metadata": {
        "id": "O-h0Uwr4uEQq"
      },
      "outputs": [],
      "source": [
        "import os\n",
        "import pandas as pd\n",
        "import nltk\n",
        "import re\n",
        "from nltk.stem import WordNetLemmatizer\n",
        "from sklearn.feature_extraction.text import CountVectorizer\n",
        "from sklearn.metrics import pairwise\n",
        "from nltk.corpus import stopwords\n",
        "import numpy as np\n",
        "from tabulate import tabulate"
      ]
    },
    {
      "cell_type": "markdown",
      "metadata": {
        "id": "DPqUzGrwLOnO"
      },
      "source": [
        "#Preparación de fuente de datos"
      ]
    },
    {
      "cell_type": "code",
      "execution_count": null,
      "metadata": {
        "colab": {
          "base_uri": "https://localhost:8080/"
        },
        "id": "e86O0aOKQAqC",
        "outputId": "6968c4a8-f5ff-4819-88e4-e9d71a0604d9"
      },
      "outputs": [
        {
          "name": "stdout",
          "output_type": "stream",
          "text": [
            "Mounted at /content/drive\n"
          ]
        }
      ],
      "source": [
        "from google.colab import drive\n",
        "drive.mount('/content/drive')"
      ]
    },
    {
      "cell_type": "code",
      "execution_count": null,
      "metadata": {
        "colab": {
          "base_uri": "https://localhost:8080/"
        },
        "id": "BjLUFOIY2lR-",
        "outputId": "db78831b-8fac-41aa-f4ea-b27501ebb9e2"
      },
      "outputs": [
        {
          "name": "stdout",
          "output_type": "stream",
          "text": [
            "Archive:  /content/drive/MyDrive/RetoDesarrollo/dataset.zip\n",
            "   creating: /content/drive/MyDrive/RetoDesarrollo/dataset/test/\n",
            "  inflating: /content/drive/MyDrive/RetoDesarrollo/dataset/test/FID-001.txt  \n",
            "  inflating: /content/drive/MyDrive/RetoDesarrollo/dataset/test/FID-002.txt  \n",
            "  inflating: /content/drive/MyDrive/RetoDesarrollo/dataset/test/FID-003.txt  \n",
            "  inflating: /content/drive/MyDrive/RetoDesarrollo/dataset/test/FID-004.txt  \n",
            "  inflating: /content/drive/MyDrive/RetoDesarrollo/dataset/test/FID-005.txt  \n",
            "  inflating: /content/drive/MyDrive/RetoDesarrollo/dataset/test/FID-006.txt  \n",
            "  inflating: /content/drive/MyDrive/RetoDesarrollo/dataset/test/FID-007.txt  \n",
            "  inflating: /content/drive/MyDrive/RetoDesarrollo/dataset/test/FID-008.txt  \n",
            "  inflating: /content/drive/MyDrive/RetoDesarrollo/dataset/test/FID-009.txt  \n",
            "  inflating: /content/drive/MyDrive/RetoDesarrollo/dataset/test/FID-010.txt  \n",
            "  inflating: /content/drive/MyDrive/RetoDesarrollo/dataset/test/FID-011.txt  \n",
            "  inflating: /content/drive/MyDrive/RetoDesarrollo/dataset/test/FID-012.txt  \n",
            "  inflating: /content/drive/MyDrive/RetoDesarrollo/dataset/test/FID-013.txt  \n",
            "  inflating: /content/drive/MyDrive/RetoDesarrollo/dataset/test/FID-014.txt  \n",
            "  inflating: /content/drive/MyDrive/RetoDesarrollo/dataset/test/FID-015.txt  \n",
            "  inflating: /content/drive/MyDrive/RetoDesarrollo/dataset/test/FID-016.txt  \n",
            "  inflating: /content/drive/MyDrive/RetoDesarrollo/dataset/test/FID-017.txt  \n",
            "  inflating: /content/drive/MyDrive/RetoDesarrollo/dataset/test/FID-018.txt  \n",
            "  inflating: /content/drive/MyDrive/RetoDesarrollo/dataset/test/FID-019.txt  \n",
            "  inflating: /content/drive/MyDrive/RetoDesarrollo/dataset/test/FID-020.txt  \n",
            "   creating: /content/drive/MyDrive/RetoDesarrollo/dataset/train/\n",
            "  inflating: /content/drive/MyDrive/RetoDesarrollo/dataset/train/org-001.txt  \n",
            "  inflating: /content/drive/MyDrive/RetoDesarrollo/dataset/train/org-002.txt  \n",
            "  inflating: /content/drive/MyDrive/RetoDesarrollo/dataset/train/org-003.txt  \n",
            "  inflating: /content/drive/MyDrive/RetoDesarrollo/dataset/train/org-004.txt  \n",
            "  inflating: /content/drive/MyDrive/RetoDesarrollo/dataset/train/org-005.txt  \n",
            "  inflating: /content/drive/MyDrive/RetoDesarrollo/dataset/train/org-006.txt  \n",
            "  inflating: /content/drive/MyDrive/RetoDesarrollo/dataset/train/org-007.txt  \n",
            "  inflating: /content/drive/MyDrive/RetoDesarrollo/dataset/train/org-008.txt  \n",
            "  inflating: /content/drive/MyDrive/RetoDesarrollo/dataset/train/org-009.txt  \n",
            "  inflating: /content/drive/MyDrive/RetoDesarrollo/dataset/train/org-010.txt  \n",
            "  inflating: /content/drive/MyDrive/RetoDesarrollo/dataset/train/org-011.txt  \n",
            "  inflating: /content/drive/MyDrive/RetoDesarrollo/dataset/train/org-012.txt  \n",
            "  inflating: /content/drive/MyDrive/RetoDesarrollo/dataset/train/org-013.txt  \n",
            "  inflating: /content/drive/MyDrive/RetoDesarrollo/dataset/train/org-014.txt  \n",
            "  inflating: /content/drive/MyDrive/RetoDesarrollo/dataset/train/org-015.txt  \n",
            "  inflating: /content/drive/MyDrive/RetoDesarrollo/dataset/train/org-016.txt  \n",
            "  inflating: /content/drive/MyDrive/RetoDesarrollo/dataset/train/org-017.txt  \n",
            "  inflating: /content/drive/MyDrive/RetoDesarrollo/dataset/train/org-018.txt  \n",
            "  inflating: /content/drive/MyDrive/RetoDesarrollo/dataset/train/org-019.txt  \n",
            "  inflating: /content/drive/MyDrive/RetoDesarrollo/dataset/train/org-020.txt  \n",
            "  inflating: /content/drive/MyDrive/RetoDesarrollo/dataset/train/org-021.txt  \n",
            "  inflating: /content/drive/MyDrive/RetoDesarrollo/dataset/train/org-022.txt  \n",
            "  inflating: /content/drive/MyDrive/RetoDesarrollo/dataset/train/org-023.txt  \n",
            "  inflating: /content/drive/MyDrive/RetoDesarrollo/dataset/train/org-024.txt  \n",
            "  inflating: /content/drive/MyDrive/RetoDesarrollo/dataset/train/org-025.txt  \n",
            "  inflating: /content/drive/MyDrive/RetoDesarrollo/dataset/train/org-026.txt  \n",
            "  inflating: /content/drive/MyDrive/RetoDesarrollo/dataset/train/org-027.txt  \n",
            "  inflating: /content/drive/MyDrive/RetoDesarrollo/dataset/train/org-028.txt  \n",
            "  inflating: /content/drive/MyDrive/RetoDesarrollo/dataset/train/org-029.txt  \n",
            "  inflating: /content/drive/MyDrive/RetoDesarrollo/dataset/train/org-030.txt  \n",
            "  inflating: /content/drive/MyDrive/RetoDesarrollo/dataset/train/org-031.txt  \n",
            "  inflating: /content/drive/MyDrive/RetoDesarrollo/dataset/train/org-032.txt  \n",
            "  inflating: /content/drive/MyDrive/RetoDesarrollo/dataset/train/org-033.txt  \n",
            "  inflating: /content/drive/MyDrive/RetoDesarrollo/dataset/train/org-034.txt  \n",
            "  inflating: /content/drive/MyDrive/RetoDesarrollo/dataset/train/org-035.txt  \n",
            "  inflating: /content/drive/MyDrive/RetoDesarrollo/dataset/train/org-036.txt  \n",
            "  inflating: /content/drive/MyDrive/RetoDesarrollo/dataset/train/org-037.txt  \n",
            "  inflating: /content/drive/MyDrive/RetoDesarrollo/dataset/train/org-038.txt  \n",
            "  inflating: /content/drive/MyDrive/RetoDesarrollo/dataset/train/org-039.txt  \n",
            "  inflating: /content/drive/MyDrive/RetoDesarrollo/dataset/train/org-040.txt  \n",
            "  inflating: /content/drive/MyDrive/RetoDesarrollo/dataset/train/org-041.txt  \n",
            "  inflating: /content/drive/MyDrive/RetoDesarrollo/dataset/train/org-042.txt  \n",
            "  inflating: /content/drive/MyDrive/RetoDesarrollo/dataset/train/org-043.txt  \n",
            "  inflating: /content/drive/MyDrive/RetoDesarrollo/dataset/train/org-044.txt  \n",
            "  inflating: /content/drive/MyDrive/RetoDesarrollo/dataset/train/org-045.txt  \n",
            "  inflating: /content/drive/MyDrive/RetoDesarrollo/dataset/train/org-046.txt  \n",
            "  inflating: /content/drive/MyDrive/RetoDesarrollo/dataset/train/org-047.txt  \n",
            "  inflating: /content/drive/MyDrive/RetoDesarrollo/dataset/train/org-048.txt  \n",
            "  inflating: /content/drive/MyDrive/RetoDesarrollo/dataset/train/org-049.txt  \n",
            "  inflating: /content/drive/MyDrive/RetoDesarrollo/dataset/train/org-050.txt  \n",
            "  inflating: /content/drive/MyDrive/RetoDesarrollo/dataset/train/org-051.txt  \n",
            "  inflating: /content/drive/MyDrive/RetoDesarrollo/dataset/train/org-052.txt  \n",
            "  inflating: /content/drive/MyDrive/RetoDesarrollo/dataset/train/org-053.txt  \n",
            "  inflating: /content/drive/MyDrive/RetoDesarrollo/dataset/train/org-054.txt  \n",
            "  inflating: /content/drive/MyDrive/RetoDesarrollo/dataset/train/org-055.txt  \n",
            "  inflating: /content/drive/MyDrive/RetoDesarrollo/dataset/train/org-056.txt  \n",
            "  inflating: /content/drive/MyDrive/RetoDesarrollo/dataset/train/org-057.txt  \n",
            "  inflating: /content/drive/MyDrive/RetoDesarrollo/dataset/train/org-058.txt  \n",
            "  inflating: /content/drive/MyDrive/RetoDesarrollo/dataset/train/org-059.txt  \n",
            "  inflating: /content/drive/MyDrive/RetoDesarrollo/dataset/train/org-060.txt  \n",
            "  inflating: /content/drive/MyDrive/RetoDesarrollo/dataset/train/org-061.txt  \n",
            "  inflating: /content/drive/MyDrive/RetoDesarrollo/dataset/train/org-062.txt  \n",
            "  inflating: /content/drive/MyDrive/RetoDesarrollo/dataset/train/org-063.txt  \n",
            "  inflating: /content/drive/MyDrive/RetoDesarrollo/dataset/train/org-064.txt  \n",
            "  inflating: /content/drive/MyDrive/RetoDesarrollo/dataset/train/org-065.txt  \n",
            "  inflating: /content/drive/MyDrive/RetoDesarrollo/dataset/train/org-066.txt  \n",
            "  inflating: /content/drive/MyDrive/RetoDesarrollo/dataset/train/org-067.txt  \n",
            "  inflating: /content/drive/MyDrive/RetoDesarrollo/dataset/train/org-068.txt  \n",
            "  inflating: /content/drive/MyDrive/RetoDesarrollo/dataset/train/org-069.txt  \n",
            "  inflating: /content/drive/MyDrive/RetoDesarrollo/dataset/train/org-070.txt  \n",
            "  inflating: /content/drive/MyDrive/RetoDesarrollo/dataset/train/org-071.txt  \n",
            "  inflating: /content/drive/MyDrive/RetoDesarrollo/dataset/train/org-072.txt  \n",
            "  inflating: /content/drive/MyDrive/RetoDesarrollo/dataset/train/org-073.txt  \n",
            "  inflating: /content/drive/MyDrive/RetoDesarrollo/dataset/train/org-074.txt  \n",
            "  inflating: /content/drive/MyDrive/RetoDesarrollo/dataset/train/org-075.txt  \n",
            "  inflating: /content/drive/MyDrive/RetoDesarrollo/dataset/train/org-076.txt  \n",
            "  inflating: /content/drive/MyDrive/RetoDesarrollo/dataset/train/org-077.txt  \n",
            "  inflating: /content/drive/MyDrive/RetoDesarrollo/dataset/train/org-078.txt  \n",
            "  inflating: /content/drive/MyDrive/RetoDesarrollo/dataset/train/org-079.txt  \n",
            "  inflating: /content/drive/MyDrive/RetoDesarrollo/dataset/train/org-080.txt  \n",
            "  inflating: /content/drive/MyDrive/RetoDesarrollo/dataset/train/org-081.txt  \n",
            "  inflating: /content/drive/MyDrive/RetoDesarrollo/dataset/train/org-082.txt  \n",
            "  inflating: /content/drive/MyDrive/RetoDesarrollo/dataset/train/org-083.txt  \n",
            "  inflating: /content/drive/MyDrive/RetoDesarrollo/dataset/train/org-084.txt  \n",
            "  inflating: /content/drive/MyDrive/RetoDesarrollo/dataset/train/org-085.txt  \n",
            "  inflating: /content/drive/MyDrive/RetoDesarrollo/dataset/train/org-086.txt  \n",
            "  inflating: /content/drive/MyDrive/RetoDesarrollo/dataset/train/org-087.txt  \n",
            "  inflating: /content/drive/MyDrive/RetoDesarrollo/dataset/train/org-088.txt  \n",
            "  inflating: /content/drive/MyDrive/RetoDesarrollo/dataset/train/org-089.txt  \n",
            "  inflating: /content/drive/MyDrive/RetoDesarrollo/dataset/train/org-090.txt  \n",
            "  inflating: /content/drive/MyDrive/RetoDesarrollo/dataset/train/org-091.txt  \n",
            "  inflating: /content/drive/MyDrive/RetoDesarrollo/dataset/train/org-092.txt  \n",
            "  inflating: /content/drive/MyDrive/RetoDesarrollo/dataset/train/org-093.txt  \n",
            "  inflating: /content/drive/MyDrive/RetoDesarrollo/dataset/train/org-094.txt  \n",
            "  inflating: /content/drive/MyDrive/RetoDesarrollo/dataset/train/org-095.txt  \n",
            "  inflating: /content/drive/MyDrive/RetoDesarrollo/dataset/train/org-096.txt  \n",
            "  inflating: /content/drive/MyDrive/RetoDesarrollo/dataset/train/org-097.txt  \n",
            "  inflating: /content/drive/MyDrive/RetoDesarrollo/dataset/train/org-098.txt  \n",
            "  inflating: /content/drive/MyDrive/RetoDesarrollo/dataset/train/org-099.txt  \n",
            "  inflating: /content/drive/MyDrive/RetoDesarrollo/dataset/train/org-100.txt  \n"
          ]
        }
      ],
      "source": [
        "#Extracción de archivo zip\n",
        "!unzip \"/content/drive/MyDrive/RetoDesarrollo/dataset.zip\" -d \"/content/drive/MyDrive/RetoDesarrollo/\""
      ]
    },
    {
      "cell_type": "code",
      "execution_count": null,
      "metadata": {
        "id": "4D0cY9-H23gC"
      },
      "outputs": [],
      "source": [
        "datas = os.listdir('/content/drive/MyDrive/RetoDesarrollo/dataset/train')\n",
        "datas.sort()\n",
        "#print(datas)"
      ]
    },
    {
      "cell_type": "markdown",
      "metadata": {
        "id": "vPfhJOuKP64J"
      },
      "source": [
        "#Lectura de textos de referencia"
      ]
    },
    {
      "cell_type": "code",
      "execution_count": null,
      "metadata": {
        "id": "ca3ExOXE68BA"
      },
      "outputs": [],
      "source": [
        "#Función para leer todos los textos y procesarlos\n",
        "def read_dic(data):\n",
        "  files = []\n",
        "  df = pd.read_csv(\"/content/drive/MyDrive/RetoDesarrollo/file_lemmat.csv\")\n",
        "  cont = 0\n",
        "\n",
        "  for text in data:\n",
        "    if cont >= len(df):\n",
        "      break\n",
        "\n",
        "    df.at[cont, 'Name'] = text\n",
        "\n",
        "    hasVec=verify_lemmat(cont, text)\n",
        "\n",
        "    if hasVec is None:\n",
        "      #Se realiza todo el proceso\n",
        "      file_path = '/content/drive/MyDrive/RetoDesarrollo/dataset/train/' + text\n",
        "      with open(file_path, 'r') as file:\n",
        "        rFile = file.readlines()\n",
        "        #Proceso para limpieza\n",
        "        cFile=clean_data(rFile, file_path)\n",
        "\n",
        "        #Aplicar Lematización\n",
        "        lemmed = lem_file(cFile)\n",
        "        #print(lemmed)\n",
        "        #Vectorizar\n",
        "        #vecs = vectorize_file(lemmed)\n",
        "        #print(vecs)\n",
        "        df.at[cont, 'Lemmatization'] = lemmed\n",
        "\n",
        "        files.append(lemmed)\n",
        "\n",
        "    cont += 1\n",
        "  df.to_csv(\"/content/drive/MyDrive/RetoDesarrollo/file_lemmat.csv\", index=False)\n",
        "\n",
        "  #print(files)\n",
        "  return files\n"
      ]
    },
    {
      "cell_type": "code",
      "execution_count": null,
      "metadata": {
        "id": "32JRmWdc_Mht"
      },
      "outputs": [],
      "source": [
        "#Función para verificar si el vector se encuentra en el csv\n",
        "def verify_lemmat(cont, name):\n",
        "  df = pd.read_csv(\"/content/drive/MyDrive/RetoDesarrollo/file_lemmat.csv\") #Leer el csv\n",
        "\n",
        "  if pd.isna(df.at[cont, 'Lemmatization']):\n",
        "    return None\n",
        "  else:\n",
        "    return df.at[cont, 'Lemmatization']\n"
      ]
    },
    {
      "cell_type": "code",
      "execution_count": null,
      "metadata": {
        "colab": {
          "base_uri": "https://localhost:8080/"
        },
        "id": "bJ5_LhxUzSjG",
        "outputId": "0654348e-d134-43cd-ad69-b0a84a264eb0"
      },
      "outputs": [
        {
          "name": "stderr",
          "output_type": "stream",
          "text": [
            "[nltk_data] Downloading package punkt to /root/nltk_data...\n",
            "[nltk_data]   Unzipping tokenizers/punkt.zip.\n",
            "[nltk_data] Downloading package stopwords to /root/nltk_data...\n",
            "[nltk_data]   Unzipping corpora/stopwords.zip.\n"
          ]
        }
      ],
      "source": [
        "nltk.download('punkt')\n",
        "nltk.download('stopwords')\n",
        "#Funciones de limpieza de datos\n",
        "def clean_data(file, file_path):\n",
        "  #print(file)\n",
        "  text = ''.join(file)\n",
        "  #Eliminación de signos de puntuación\n",
        "  clean_text = re.sub(r'[^\\w\\s]', '', text)\n",
        "  stop_words = set(stopwords.words('english'))\n",
        "\n",
        "  #print(clean_text)\n",
        "\n",
        "  #Tokenización\n",
        "  nltk_tokens = nltk.word_tokenize(clean_text)\n",
        "\n",
        "   # Eliminar las stopwords de los tokens\n",
        "  filtered_tokens = [word for word in nltk_tokens if word.lower() not in stop_words]\n",
        "\n",
        "  #print(f\"Filtered Tokens for {file_path}: {filtered_tokens}\")\n",
        "  return filtered_tokens"
      ]
    },
    {
      "cell_type": "code",
      "execution_count": null,
      "metadata": {
        "colab": {
          "base_uri": "https://localhost:8080/"
        },
        "id": "oYlVkCGtClbe",
        "outputId": "24e655fc-6453-48b7-f7bd-9d04d390a239"
      },
      "outputs": [
        {
          "name": "stderr",
          "output_type": "stream",
          "text": [
            "[nltk_data] Downloading package wordnet to /root/nltk_data...\n"
          ]
        }
      ],
      "source": [
        "nltk.download('wordnet')\n",
        "lemmatizer = WordNetLemmatizer()\n",
        "\n",
        "def lem_file(tokens):\n",
        "    lemmed_file = [lemmatizer.lemmatize(token) for token in tokens]\n",
        "    #print(lemmed_file)\n",
        "    vector = np.array(lemmed_file)\n",
        "    vector_str = ','.join(map(str, vector))\n",
        "    #print(vector_str)\n",
        "    return vector_str\n"
      ]
    },
    {
      "cell_type": "code",
      "execution_count": null,
      "metadata": {
        "id": "lp02XPZT7Jaw"
      },
      "outputs": [],
      "source": [
        "files = read_dic(datas)"
      ]
    },
    {
      "cell_type": "markdown",
      "metadata": {
        "id": "VPdjC4Q2Q0ok"
      },
      "source": [
        "#Comparación de texto nuevo"
      ]
    },
    {
      "cell_type": "code",
      "execution_count": null,
      "metadata": {
        "id": "XvbFzO-vTAny"
      },
      "outputs": [],
      "source": [
        "#Función para obtener el vector del nuevo archivo\n",
        "def get_lemmed(file_path):\n",
        "  with open(file_path, 'r') as newFile:\n",
        "    rNewFile = newFile.readlines()\n",
        "    #print(rNewFile)\n",
        "    #Proceso para limpieza\n",
        "    cNewFile=clean_data(rNewFile, file_path)\n",
        "\n",
        "    #Aplicar Lematización\n",
        "    lemmedNew = lem_file(cNewFile)\n",
        "    #print(lemmedNew)\n",
        "    return lemmedNew"
      ]
    },
    {
      "cell_type": "code",
      "execution_count": null,
      "metadata": {
        "id": "Q-BMeS-jFxNN"
      },
      "outputs": [],
      "source": [
        "#Función para vectorizar\n",
        "def vectorize_file(textsList):\n",
        "  vectorizer = CountVectorizer()\n",
        "  vector = vectorizer.fit_transform(textsList).toarray()\n",
        "  #print(vector)\n",
        "  return vector"
      ]
    },
    {
      "cell_type": "code",
      "execution_count": null,
      "metadata": {
        "id": "1raBnvo45sJI"
      },
      "outputs": [],
      "source": [
        "def getFullText(tokenList):\n",
        "  newSent = ''\n",
        "  for word in tokenList:\n",
        "    #print(word)\n",
        "    newSent += word + \" \"\n",
        "    #print(newSent)\n",
        "  #print(newSent)\n",
        "  return newSent"
      ]
    },
    {
      "cell_type": "code",
      "execution_count": null,
      "metadata": {
        "id": "04PUFuaVFGa_"
      },
      "outputs": [],
      "source": [
        "# Función para calcular las tres similitudes de coseno más altas\n",
        "def top_3_similarity(simil):\n",
        "    top_3_similarities = sorted(simil, key=lambda x: x[0], reverse=True)[:3]\n",
        "\n",
        "    #print(\"Top 3 Similitudes de coseno con los textos:\")\n",
        "    for sim, name in top_3_similarities:\n",
        "      similarity_percent = sim * 100\n",
        "      #print(f\"Similitud: {sim}, Porcentaje: {similarity_percent:.2f}%, Texto: {name}\")\n",
        "\n",
        "    return top_3_similarities"
      ]
    },
    {
      "cell_type": "code",
      "execution_count": null,
      "metadata": {
        "id": "zvaJr-RuZs9Y"
      },
      "outputs": [],
      "source": [
        "np.set_printoptions(threshold=np.inf)\n",
        "def measure_distance(newLemmed):\n",
        "  simil = []\n",
        "  df = pd.read_csv(\"/content/drive/MyDrive/RetoDesarrollo/file_lemmat.csv\") #Leer el csv\n",
        "  fullNew = getFullText(newLemmed.split(','))\n",
        "  for i in range(0, len(df)):\n",
        "    bothTexts = []\n",
        "    text_name = df.at[i, 'Name']\n",
        "    oldLemm = df.at[i, 'Lemmatization']\n",
        "    #print(oldLemm.split(','))\n",
        "    fullOld = getFullText(oldLemm.split(','))\n",
        "    bothTexts.append(fullOld)\n",
        "    bothTexts.append(fullNew)\n",
        "    #print(bothTexts)\n",
        "    vec = vectorize_file(bothTexts)\n",
        "    #print(vec)\n",
        "\n",
        "    cosSim = pairwise.cosine_similarity(vec)[0, 1]  # Obtener la similitud de coseno\n",
        "    simil.append((cosSim, text_name))\n",
        "    #print(cosSim)\n",
        "  #print(simil)\n",
        "  return simil"
      ]
    },
    {
      "cell_type": "code",
      "execution_count": 91,
      "metadata": {
        "id": "7t9RHsKRWX5g"
      },
      "outputs": [],
      "source": [
        "def final_veredict(umbral, tupleList):\n",
        "  # Filtrar las similitudes para seleccionar solo aquellas por encima del umbral\n",
        "  plagiarism_cases = [(sim, name) for sim, name in tupleList if sim > umbral]\n",
        "  return plagiarism_cases\n"
      ]
    },
    {
      "cell_type": "code",
      "execution_count": 94,
      "metadata": {
        "colab": {
          "base_uri": "https://localhost:8080/"
        },
        "id": "aBbUfrUVQzGV",
        "outputId": "99eaa39c-2160-43a8-b146-4e81f980961e"
      },
      "outputs": [
        {
          "output_type": "execute_result",
          "data": {
            "text/plain": [
              "[(0.7911865309325848, 'org-023.txt'), (0.4039215399576591, 'org-059.txt')]"
            ]
          },
          "metadata": {},
          "execution_count": 94
        }
      ],
      "source": [
        "#Ingresar nombre del archivo que se quiere utilizar\n",
        "#new_file = input(\"Ingrese el nombre del texto: \")\n",
        "new_file = \"FID-005\"\n",
        "file_path = '/content/drive/MyDrive/RetoDesarrollo/dataset/test/' + new_file + '.txt'\n",
        "\n",
        "newLemmed = get_lemmed(file_path)\n",
        "similarities = measure_distance(newLemmed)\n",
        "top_3_similarities = top_3_similarity(similarities)\n",
        "final_veredict(0.4, top_3_similarities)"
      ]
    },
    {
      "cell_type": "code",
      "execution_count": 95,
      "metadata": {
        "id": "1TTtxG8NRd4p"
      },
      "outputs": [],
      "source": [
        "pruebas = os.listdir('/content/drive/MyDrive/RetoDesarrollo/dataset/test')\n",
        "pruebas.sort()"
      ]
    },
    {
      "cell_type": "code",
      "execution_count": 105,
      "metadata": {
        "id": "lA2N6JLnxOCW"
      },
      "outputs": [],
      "source": [
        "def print_results_as_table(results):\n",
        "    headers = [\"Archivo\", \"Plagiado\", \"Similitud\", \"Texto\"]\n",
        "    table_data = []\n",
        "\n",
        "    for text, veredict in results:\n",
        "      if veredict:\n",
        "        plagio_status = \"Sí\"\n",
        "        # Procesar el veredicto para obtener similitud y textos\n",
        "        for similarity, similar_text in veredict:\n",
        "          table_data.append([text, plagio_status, f\"{similarity:.2%}\", similar_text])\n",
        "      else:\n",
        "        table_data.append([text, \"No\", \"\", \"\"])\n",
        "\n",
        "    print(tabulate(table_data, headers=headers, tablefmt=\"grid\"))"
      ]
    },
    {
      "cell_type": "code",
      "execution_count": 107,
      "metadata": {
        "id": "yICYQVT-SYKW"
      },
      "outputs": [],
      "source": [
        "def read_pruebas(data):\n",
        "  files = []\n",
        "  cont = 0\n",
        "  pruebas\n",
        "\n",
        "  for text in data:\n",
        "    if cont >= len(pruebas):\n",
        "      break\n",
        "\n",
        "    file_path = '/content/drive/MyDrive/RetoDesarrollo/dataset/test/' + text\n",
        "    newLemmed = get_lemmed(file_path)\n",
        "    similarities = measure_distance(newLemmed)\n",
        "    #print(text)\n",
        "    top_3_similarities = top_3_similarity(similarities)\n",
        "    #final_veredict(0.3, top_3_similarities)\n",
        "    veredict = final_veredict(0.4, top_3_similarities)\n",
        "    #final_veredict(0.5, top_3_similarities)\n",
        "    #final_veredict(0.6, top_3_similarities)\n",
        "    #final_veredict(0.7, top_3_similarities)\n",
        "    #print('\\n')\n",
        "    files.append((text, veredict))\n",
        "\n",
        "    cont += 1\n",
        "\n",
        "  print_results_as_table(files)\n",
        "  #print(files)\n",
        "  #return files\n"
      ]
    },
    {
      "cell_type": "code",
      "execution_count": 109,
      "metadata": {
        "colab": {
          "base_uri": "https://localhost:8080/"
        },
        "id": "SNAPdvVNTHHE",
        "outputId": "ecab67f9-18a0-448d-9703-78a5f6b13c8f"
      },
      "outputs": [
        {
          "output_type": "stream",
          "name": "stdout",
          "text": [
            "+-------------+------------+-------------+-------------+\n",
            "| Archivo     | Plagiado   | Similitud   | Texto       |\n",
            "+=============+============+=============+=============+\n",
            "| FID-001.txt | No         |             |             |\n",
            "+-------------+------------+-------------+-------------+\n",
            "| FID-002.txt | No         |             |             |\n",
            "+-------------+------------+-------------+-------------+\n",
            "| FID-003.txt | No         |             |             |\n",
            "+-------------+------------+-------------+-------------+\n",
            "| FID-004.txt | No         |             |             |\n",
            "+-------------+------------+-------------+-------------+\n",
            "| FID-005.txt | Sí         | 79.12%      | org-023.txt |\n",
            "+-------------+------------+-------------+-------------+\n",
            "| FID-005.txt | Sí         | 40.39%      | org-059.txt |\n",
            "+-------------+------------+-------------+-------------+\n",
            "| FID-006.txt | No         |             |             |\n",
            "+-------------+------------+-------------+-------------+\n",
            "| FID-007.txt | No         |             |             |\n",
            "+-------------+------------+-------------+-------------+\n",
            "| FID-008.txt | No         |             |             |\n",
            "+-------------+------------+-------------+-------------+\n",
            "| FID-009.txt | No         |             |             |\n",
            "+-------------+------------+-------------+-------------+\n",
            "| FID-010.txt | Sí         | 97.41%      | org-091.txt |\n",
            "+-------------+------------+-------------+-------------+\n",
            "| FID-010.txt | Sí         | 40.21%      | org-005.txt |\n",
            "+-------------+------------+-------------+-------------+\n",
            "| FID-011.txt | No         |             |             |\n",
            "+-------------+------------+-------------+-------------+\n",
            "| FID-012.txt | No         |             |             |\n",
            "+-------------+------------+-------------+-------------+\n",
            "| FID-013.txt | No         |             |             |\n",
            "+-------------+------------+-------------+-------------+\n",
            "| FID-014.txt | Sí         | 77.84%      | org-019.txt |\n",
            "+-------------+------------+-------------+-------------+\n",
            "| FID-014.txt | Sí         | 47.46%      | org-011.txt |\n",
            "+-------------+------------+-------------+-------------+\n",
            "| FID-015.txt | Sí         | 97.32%      | org-034.txt |\n",
            "+-------------+------------+-------------+-------------+\n",
            "| FID-016.txt | Sí         | 96.66%      | org-046.txt |\n",
            "+-------------+------------+-------------+-------------+\n",
            "| FID-017.txt | Sí         | 100.00%     | org-062.txt |\n",
            "+-------------+------------+-------------+-------------+\n",
            "| FID-018.txt | Sí         | 97.44%      | org-057.txt |\n",
            "+-------------+------------+-------------+-------------+\n",
            "| FID-019.txt | Sí         | 78.31%      | org-066.txt |\n",
            "+-------------+------------+-------------+-------------+\n",
            "| FID-020.txt | Sí         | 78.31%      | org-066.txt |\n",
            "+-------------+------------+-------------+-------------+\n"
          ]
        }
      ],
      "source": [
        "read_pruebas(pruebas)"
      ]
    },
    {
      "cell_type": "markdown",
      "metadata": {
        "id": "M8KjSOUrK8D_"
      },
      "source": [
        "A pesar de que se eligen los 3 archivos con la mayor similitud, no significa que los 3 presenten plagio, para esto se tiene que analizar el porcentaje de similitud, que a partir de un .4 o .5 podrían representar plagio, menor a eso se podría considerar coincidencias.\n",
        "\n",
        "Para corroborar esto se realizó un método de prueba y error, tomando las mediciones que entren dentro de un umbral de 30%, 40%, 50%, 60% y 70%. Observando los resultados y comparando con la información que tenemos determinamos que el umbral más adecuado sería el de 40%."
      ]
    }
  ],
  "metadata": {
    "colab": {
      "provenance": []
    },
    "kernelspec": {
      "display_name": "Python 3",
      "name": "python3"
    },
    "language_info": {
      "name": "python"
    }
  },
  "nbformat": 4,
  "nbformat_minor": 0
}